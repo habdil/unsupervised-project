{
  "cells": [
    {
      "cell_type": "markdown",
      "metadata": {
        "id": "fKADPWcFKlj3"
      },
      "source": [
        "# **1. Import Library**"
      ]
    },
    {
      "cell_type": "markdown",
      "metadata": {
        "id": "LgA3ERnVn84N"
      },
      "source": [
        "Pada tahap ini, Anda perlu mengimpor beberapa pustaka (library) Python yang dibutuhkan untuk analisis data dan pembangunan model machine learning."
      ]
    },
    {
      "cell_type": "code",
      "execution_count": 1,
      "metadata": {
        "id": "BlmvjLY9M4Yj"
      },
      "outputs": [],
      "source": [
        "# 1. Import Libraries for Classification\n",
        "import pandas as pd\n",
        "import numpy as np\n",
        "from sklearn.model_selection import train_test_split\n",
        "from sklearn.preprocessing import StandardScaler\n",
        "from sklearn.tree import DecisionTreeClassifier\n",
        "from sklearn.ensemble import RandomForestClassifier\n",
        "from sklearn.metrics import accuracy_score, f1_score, classification_report, confusion_matrix\n",
        "import seaborn as sns\n",
        "import matplotlib.pyplot as plt"
      ]
    },
    {
      "cell_type": "markdown",
      "metadata": {
        "id": "f3YIEnAFKrKL"
      },
      "source": [
        "# **2. Memuat Dataset dari Hasil Clustering**"
      ]
    },
    {
      "cell_type": "markdown",
      "metadata": {
        "id": "Ey3ItwTen_7E"
      },
      "source": [
        "Memuat dataset hasil clustering dari file CSV ke dalam variabel DataFrame."
      ]
    },
    {
      "cell_type": "code",
      "execution_count": 6,
      "metadata": {
        "id": "GHCGNTyrM5fS"
      },
      "outputs": [
        {
          "name": "stdout",
          "output_type": "stream",
          "text": [
            "=== Loading and Inspecting Data ===\n",
            "Dataset Shape: (3000, 10)\n",
            "\n",
            "First few rows:\n",
            "   lead_time_log  booking_changes  total_stay  previous_cancellations    adr  \\\n",
            "0       4.077537                1           2                       0   91.0   \n",
            "1       1.098612                0           2                       0   98.0   \n",
            "2       5.170484                0           3                       0   79.2   \n",
            "3       5.402677                0           4                       0  138.6   \n",
            "4       3.465736                0           6                       0  122.4   \n",
            "\n",
            "   deposit_type  market_segment_weight  Cluster clustering_method  \\\n",
            "0             0                   0.15        1      hierarchical   \n",
            "1             0                   0.35        1      hierarchical   \n",
            "2             0                   0.35        1      hierarchical   \n",
            "3             0                   0.35        1      hierarchical   \n",
            "4             0                   0.35        1      hierarchical   \n",
            "\n",
            "   silhouette_score  \n",
            "0          0.743891  \n",
            "1          0.743891  \n",
            "2          0.743891  \n",
            "3          0.743891  \n",
            "4          0.743891  \n",
            "\n",
            "Dataset Info:\n",
            "<class 'pandas.core.frame.DataFrame'>\n",
            "RangeIndex: 3000 entries, 0 to 2999\n",
            "Data columns (total 10 columns):\n",
            " #   Column                  Non-Null Count  Dtype  \n",
            "---  ------                  --------------  -----  \n",
            " 0   lead_time_log           3000 non-null   float64\n",
            " 1   booking_changes         3000 non-null   int64  \n",
            " 2   total_stay              3000 non-null   int64  \n",
            " 3   previous_cancellations  3000 non-null   int64  \n",
            " 4   adr                     3000 non-null   float64\n",
            " 5   deposit_type            3000 non-null   int64  \n",
            " 6   market_segment_weight   3000 non-null   float64\n",
            " 7   Cluster                 3000 non-null   int64  \n",
            " 8   clustering_method       3000 non-null   object \n",
            " 9   silhouette_score        3000 non-null   float64\n",
            "dtypes: float64(4), int64(5), object(1)\n",
            "memory usage: 234.5+ KB\n",
            "None\n",
            "\n",
            "Basic Statistics:\n",
            "       lead_time_log  booking_changes   total_stay  previous_cancellations  \\\n",
            "count    3000.000000      3000.000000  3000.000000             3000.000000   \n",
            "mean        3.765145         0.236333     3.765333                0.018667   \n",
            "std         1.445935         0.668303     2.685890                0.329172   \n",
            "min         0.000000         0.000000     0.000000                0.000000   \n",
            "25%         2.944439         0.000000     2.000000                0.000000   \n",
            "50%         4.094345         0.000000     3.000000                0.000000   \n",
            "75%         4.869450         0.000000     5.000000                0.000000   \n",
            "max         6.302619        15.000000    28.000000               13.000000   \n",
            "\n",
            "               adr  deposit_type  market_segment_weight      Cluster  \\\n",
            "count  3000.000000   3000.000000            3000.000000  3000.000000   \n",
            "mean    109.726303      0.011667               0.295570     0.987667   \n",
            "std      50.452261      0.107398               0.084629     0.110387   \n",
            "min       0.000000      0.000000               0.120000     0.000000   \n",
            "25%      76.500000      0.000000               0.180000     1.000000   \n",
            "50%     100.000000      0.000000               0.350000     1.000000   \n",
            "75%     135.000000      0.000000               0.350000     1.000000   \n",
            "max     310.500000      1.000000               0.350000     1.000000   \n",
            "\n",
            "       silhouette_score  \n",
            "count       3000.000000  \n",
            "mean           0.743891  \n",
            "std            0.000000  \n",
            "min            0.743891  \n",
            "25%            0.743891  \n",
            "50%            0.743891  \n",
            "75%            0.743891  \n",
            "max            0.743891  \n",
            "\n",
            "Columns in dataset:\n",
            "['lead_time_log', 'booking_changes', 'total_stay', 'previous_cancellations', 'adr', 'deposit_type', 'market_segment_weight', 'Cluster', 'clustering_method', 'silhouette_score']\n"
          ]
        }
      ],
      "source": [
        "# 2. Load and inspect dataset\n",
        "def load_and_inspect_data():\n",
        "    # Load data\n",
        "    df = pd.read_csv('hotel_bookings_3000_clustered.csv')\n",
        "\n",
        "    # Display basic information\n",
        "    print(\"Dataset Shape:\", df.shape)\n",
        "    print(\"\\nFirst few rows:\")\n",
        "    print(df.head())\n",
        "    print(\"\\nDataset Info:\")\n",
        "    print(df.info())\n",
        "    print(\"\\nBasic Statistics:\")\n",
        "    print(df.describe())\n",
        "    print(\"\\nColumns in dataset:\")\n",
        "    print(df.columns.tolist())\n",
        "\n",
        "    return df\n",
        "\n",
        "# Load and inspect data\n",
        "print(\"=== Loading and Inspecting Data ===\")\n",
        "df = load_and_inspect_data()"
      ]
    },
    {
      "cell_type": "markdown",
      "metadata": {
        "id": "KkPem5eWL2UP"
      },
      "source": [
        "# **3. Data Splitting**"
      ]
    },
    {
      "cell_type": "markdown",
      "metadata": {
        "id": "YYj1rl_JNI9Y"
      },
      "source": [
        "Tahap Data Splitting bertujuan untuk memisahkan dataset menjadi dua bagian: data latih (training set) dan data uji (test set)."
      ]
    },
    {
      "cell_type": "code",
      "execution_count": 7,
      "metadata": {
        "id": "OubAW-7ONKVj"
      },
      "outputs": [
        {
          "name": "stdout",
          "output_type": "stream",
          "text": [
            "\n",
            "=== Preparing Training and Testing Data ===\n",
            "\n",
            "Features shape: (3000, 7)\n",
            "Target shape: (3000,)\n",
            "\n",
            "Features used: ['lead_time_log', 'booking_changes', 'total_stay', 'previous_cancellations', 'adr', 'deposit_type', 'market_segment_weight']\n",
            "\n",
            "Unique clusters: [1 0]\n",
            "Class distribution:\n",
            "Cluster\n",
            "1    0.987667\n",
            "0    0.012333\n",
            "Name: proportion, dtype: float64\n",
            "\n",
            "Training set shape: (2400, 7)\n",
            "Testing set shape: (600, 7)\n"
          ]
        }
      ],
      "source": [
        "# 3. Data Splitting\n",
        "def prepare_train_test_data(df):\n",
        "    # Separate features and target\n",
        "    X = df.drop(['Cluster', 'clustering_method', 'silhouette_score'], axis=1)\n",
        "    y = df['Cluster']\n",
        "\n",
        "    # Display information about features and target\n",
        "    print(\"\\nFeatures shape:\", X.shape)\n",
        "    print(\"Target shape:\", y.shape)\n",
        "    print(\"\\nFeatures used:\", X.columns.tolist())\n",
        "    print(\"\\nUnique clusters:\", y.unique())\n",
        "    print(\"Class distribution:\")\n",
        "    print(y.value_counts(normalize=True))\n",
        "\n",
        "    # Split data\n",
        "    X_train, X_test, y_train, y_test = train_test_split(\n",
        "        X, y,\n",
        "        test_size=0.2,\n",
        "        random_state=42,\n",
        "        stratify=y\n",
        "    )\n",
        "\n",
        "    # Scale features\n",
        "    scaler = StandardScaler()\n",
        "    X_train_scaled = scaler.fit_transform(X_train)\n",
        "    X_test_scaled = scaler.transform(X_test)\n",
        "\n",
        "    # Convert to DataFrame to keep column names\n",
        "    X_train_scaled = pd.DataFrame(X_train_scaled, columns=X.columns)\n",
        "    X_test_scaled = pd.DataFrame(X_test_scaled, columns=X.columns)\n",
        "\n",
        "    print(\"\\nTraining set shape:\", X_train_scaled.shape)\n",
        "    print(\"Testing set shape:\", X_test_scaled.shape)\n",
        "\n",
        "    return X_train_scaled, X_test_scaled, y_train, y_test\n",
        "\n",
        "print(\"\\n=== Preparing Training and Testing Data ===\")\n",
        "X_train, X_test, y_train, y_test = prepare_train_test_data(df)"
      ]
    },
    {
      "cell_type": "markdown",
      "metadata": {
        "id": "IVPbB03CMhTT"
      },
      "source": [
        "# **4. Membangun Model Klasifikasi**\n"
      ]
    },
    {
      "cell_type": "markdown",
      "metadata": {
        "id": "Ned1pL9zMmBK"
      },
      "source": [
        "## **a. Membangun Model Klasifikasi**"
      ]
    },
    {
      "cell_type": "markdown",
      "metadata": {
        "id": "WAWzPOE4Nkti"
      },
      "source": [
        "Setelah memilih algoritma klasifikasi yang sesuai, langkah selanjutnya adalah melatih model menggunakan data latih.\n",
        "\n",
        "Berikut adalah rekomendasi tahapannya.\n",
        "1. Pilih algoritma klasifikasi yang sesuai, seperti Logistic Regression, Decision Tree, Random Forest, atau K-Nearest Neighbors (KNN).\n",
        "2. Latih model menggunakan data latih."
      ]
    },
    {
      "cell_type": "code",
      "execution_count": 8,
      "metadata": {
        "id": "4JYxBe87NLDk"
      },
      "outputs": [
        {
          "name": "stdout",
          "output_type": "stream",
          "text": [
            "\n",
            "=== Building and Training Models ===\n",
            "\n",
            "Training Random Forest...\n",
            "\n",
            "Training Decision Tree...\n"
          ]
        }
      ],
      "source": [
        "# 4. Model Building\n",
        "def build_and_train_models(X_train, y_train):\n",
        "    # Initialize models\n",
        "    models = {\n",
        "        'Random Forest': RandomForestClassifier(random_state=42),\n",
        "        'Decision Tree': DecisionTreeClassifier(random_state=42)\n",
        "    }\n",
        "\n",
        "    # Train models\n",
        "    trained_models = {}\n",
        "    for name, model in models.items():\n",
        "        print(f\"\\nTraining {name}...\")\n",
        "        model.fit(X_train, y_train)\n",
        "        trained_models[name] = model\n",
        "\n",
        "    return trained_models\n",
        "\n",
        "# Build and train models\n",
        "print(\"\\n=== Building and Training Models ===\")\n",
        "trained_models = build_and_train_models(X_train, y_train)"
      ]
    },
    {
      "cell_type": "markdown",
      "metadata": {
        "id": "seYoHNY3XU1y"
      },
      "source": [
        "Tulis narasi atau penjelasan algoritma yang Anda gunakan."
      ]
    },
    {
      "cell_type": "markdown",
      "metadata": {},
      "source": [
        "🎯 Classification Algorithm Selection and Rationale\n",
        "1. Selected Algorithms\n",
        "We chose two different classification algorithms:\n",
        "a) Random Forest\n",
        "\n",
        "Why Selected:\n",
        "\n",
        "Excellent for complex, non-linear relationships\n",
        "Handles both numerical and categorical features well\n",
        "Less prone to overfitting due to ensemble nature\n",
        "Can handle the high dimensionality of our hotel booking data\n",
        "Provides feature importance insights\n",
        "\n",
        "\n",
        "\n",
        "b) Decision Tree\n",
        "\n",
        "Why Selected:\n",
        "\n",
        "Highly interpretable model\n",
        "Can capture non-linear relationships\n",
        "Works well with mixed feature types\n",
        "Results are easy to visualize and explain\n",
        "Provides clear decision rules"
      ]
    },
    {
      "cell_type": "markdown",
      "metadata": {
        "id": "ergzChZFEL-O"
      },
      "source": [
        "## **b. Evaluasi Model Klasifikasi**"
      ]
    },
    {
      "cell_type": "markdown",
      "metadata": {
        "id": "zOm68u-7NpLT"
      },
      "source": [
        "Berikut adalah **rekomendasi** tahapannya.\n",
        "1. Lakukan prediksi menggunakan data uji.\n",
        "2. Hitung metrik evaluasi seperti Accuracy dan F1-Score (Opsional: Precision dan Recall).\n",
        "3. Buat confusion matrix untuk melihat detail prediksi benar dan salah."
      ]
    },
    {
      "cell_type": "code",
      "execution_count": 9,
      "metadata": {
        "id": "tMq4QAssNLip"
      },
      "outputs": [
        {
          "name": "stdout",
          "output_type": "stream",
          "text": [
            "\n",
            "=== Evaluating Models ===\n",
            "\n",
            "Random Forest Results:\n",
            "Training Accuracy: 1.000\n",
            "Testing Accuracy: 1.000\n",
            "Training F1-Score: 1.000\n",
            "Testing F1-Score: 1.000\n",
            "\n",
            "Classification Report:\n",
            "              precision    recall  f1-score   support\n",
            "\n",
            "           0       1.00      1.00      1.00         7\n",
            "           1       1.00      1.00      1.00       593\n",
            "\n",
            "    accuracy                           1.00       600\n",
            "   macro avg       1.00      1.00      1.00       600\n",
            "weighted avg       1.00      1.00      1.00       600\n",
            "\n"
          ]
        },
        {
          "data": {
            "image/png": "[encoded data removed]",
            "text/plain": [
              "<Figure size 800x600 with 2 Axes>"
            ]
          },
          "metadata": {},
          "output_type": "display_data"
        },
        {
          "name": "stdout",
          "output_type": "stream",
          "text": [
            "\n",
            "Decision Tree Results:\n",
            "Training Accuracy: 1.000\n",
            "Testing Accuracy: 1.000\n",
            "Training F1-Score: 1.000\n",
            "Testing F1-Score: 1.000\n",
            "\n",
            "Classification Report:\n",
            "              precision    recall  f1-score   support\n",
            "\n",
            "           0       1.00      1.00      1.00         7\n",
            "           1       1.00      1.00      1.00       593\n",
            "\n",
            "    accuracy                           1.00       600\n",
            "   macro avg       1.00      1.00      1.00       600\n",
            "weighted avg       1.00      1.00      1.00       600\n",
            "\n"
          ]
        },
        {
          "data": {
            "image/png": "[encoded data removed]",
            "text/plain": [
              "<Figure size 800x600 with 2 Axes>"
            ]
          },
          "metadata": {},
          "output_type": "display_data"
        },
        {
          "name": "stdout",
          "output_type": "stream",
          "text": [
            "\n",
            "=== Comparing Model Results ===\n",
            "\n",
            "Model Comparison:\n",
            "               train_accuracy  test_accuracy  train_f1  test_f1\n",
            "Random Forest             1.0            1.0       1.0      1.0\n",
            "Decision Tree             1.0            1.0       1.0      1.0\n"
          ]
        },
        {
          "data": {
            "text/plain": [
              "<Figure size 1000x600 with 0 Axes>"
            ]
          },
          "metadata": {},
          "output_type": "display_data"
        },
        {
          "data": {
            "image/png": "[encoded data removed]",
            "text/plain": [
              "<Figure size 640x480 with 1 Axes>"
            ]
          },
          "metadata": {},
          "output_type": "display_data"
        },
        {
          "data": {
            "text/plain": [
              "<Figure size 1000x600 with 0 Axes>"
            ]
          },
          "metadata": {},
          "output_type": "display_data"
        },
        {
          "data": {
            "image/png": "[encoded data removed]",
            "text/plain": [
              "<Figure size 640x480 with 1 Axes>"
            ]
          },
          "metadata": {},
          "output_type": "display_data"
        }
      ],
      "source": [
        "# 5. Model Evaluation\n",
        "def evaluate_models(models, X_train, X_test, y_train, y_test):\n",
        "    results = {}\n",
        "\n",
        "    for name, model in models.items():\n",
        "        print(f\"\\n{name} Results:\")\n",
        "\n",
        "        # Make predictions\n",
        "        y_train_pred = model.predict(X_train)\n",
        "        y_test_pred = model.predict(X_test)\n",
        "\n",
        "        # Calculate metrics\n",
        "        train_accuracy = accuracy_score(y_train, y_train_pred)\n",
        "        test_accuracy = accuracy_score(y_test, y_test_pred)\n",
        "        train_f1 = f1_score(y_train, y_train_pred, average='weighted')\n",
        "        test_f1 = f1_score(y_test, y_test_pred, average='weighted')\n",
        "\n",
        "        print(f\"Training Accuracy: {train_accuracy:.3f}\")\n",
        "        print(f\"Testing Accuracy: {test_accuracy:.3f}\")\n",
        "        print(f\"Training F1-Score: {train_f1:.3f}\")\n",
        "        print(f\"Testing F1-Score: {test_f1:.3f}\")\n",
        "\n",
        "        # Detailed classification report\n",
        "        print(\"\\nClassification Report:\")\n",
        "        print(classification_report(y_test, y_test_pred))\n",
        "\n",
        "        # Store results\n",
        "        results[name] = {\n",
        "            'train_accuracy': train_accuracy,\n",
        "            'test_accuracy': test_accuracy,\n",
        "            'train_f1': train_f1,\n",
        "            'test_f1': test_f1\n",
        "        }\n",
        "\n",
        "        # Plot confusion matrix\n",
        "        plt.figure(figsize=(8, 6))\n",
        "        sns.heatmap(confusion_matrix(y_test, y_test_pred),\n",
        "                   annot=True,\n",
        "                   fmt='d',\n",
        "                   cmap='Blues')\n",
        "        plt.title(f'{name} Confusion Matrix')\n",
        "        plt.xlabel('Predicted')\n",
        "        plt.ylabel('Actual')\n",
        "        plt.show()\n",
        "\n",
        "    return results\n",
        "\n",
        "# 6. Results Comparison\n",
        "def compare_models(results):\n",
        "    comparison_df = pd.DataFrame(results).T\n",
        "    print(\"\\nModel Comparison:\")\n",
        "    print(comparison_df)\n",
        "\n",
        "    # Plot comparison\n",
        "    plt.figure(figsize=(10, 6))\n",
        "    comparison_df[['train_accuracy', 'test_accuracy']].plot(kind='bar')\n",
        "    plt.title('Model Accuracy Comparison')\n",
        "    plt.ylabel('Accuracy Score')\n",
        "    plt.xticks(rotation=45)\n",
        "    plt.tight_layout()\n",
        "    plt.show()\n",
        "\n",
        "    plt.figure(figsize=(10, 6))\n",
        "    comparison_df[['train_f1', 'test_f1']].plot(kind='bar')\n",
        "    plt.title('Model F1-Score Comparison')\n",
        "    plt.ylabel('F1 Score')\n",
        "    plt.xticks(rotation=45)\n",
        "    plt.tight_layout()\n",
        "    plt.show()\n",
        "\n",
        "# Evaluate models\n",
        "print(\"\\n=== Evaluating Models ===\")\n",
        "results = evaluate_models(trained_models, X_train, X_test, y_train, y_test)\n",
        "\n",
        "# Compare results\n",
        "print(\"\\n=== Comparing Model Results ===\")\n",
        "compare_models(results)"
      ]
    },
    {
      "cell_type": "markdown",
      "metadata": {
        "id": "H4_9OwrsXZlz"
      },
      "source": [
        "Tulis hasil evaluasi algoritma yang digunakan, jika Anda menggunakan 2 algoritma, maka bandingkan hasilnya."
      ]
    },
    {
      "cell_type": "markdown",
      "metadata": {
        "id": "ph9yIYDXEPuB"
      },
      "source": [
        "## **c. Tuning Model Klasifikasi (Optional)**"
      ]
    },
    {
      "cell_type": "markdown",
      "metadata": {
        "id": "-Bikx3LINv5e"
      },
      "source": [
        "Gunakan GridSearchCV, RandomizedSearchCV, atau metode lainnya untuk mencari kombinasi hyperparameter terbaik"
      ]
    },
    {
      "cell_type": "code",
      "execution_count": null,
      "metadata": {
        "id": "winbFzb8NL95"
      },
      "outputs": [],
      "source": [
        "#Type your code here"
      ]
    },
    {
      "cell_type": "markdown",
      "metadata": {
        "id": "hE7pqlEPEYzI"
      },
      "source": [
        "## **d. Evaluasi Model Klasifikasi setelah Tuning (Optional)**"
      ]
    },
    {
      "cell_type": "markdown",
      "metadata": {
        "id": "feaPESoeN0zz"
      },
      "source": [
        "Berikut adalah rekomendasi tahapannya.\n",
        "1. Gunakan model dengan hyperparameter terbaik.\n",
        "2. Hitung ulang metrik evaluasi untuk melihat apakah ada peningkatan performa."
      ]
    },
    {
      "cell_type": "code",
      "execution_count": null,
      "metadata": {
        "id": "HTXZRvEeNMb1"
      },
      "outputs": [],
      "source": [
        "#Type your code here"
      ]
    },
    {
      "cell_type": "markdown",
      "metadata": {
        "id": "ZRsOdm4uEgAW"
      },
      "source": [
        "## **e. Analisis Hasil Evaluasi Model Klasifikasi**"
      ]
    },
    {
      "cell_type": "markdown",
      "metadata": {
        "id": "Hm3BhSi6N4_l"
      },
      "source": [
        "Berikut adalah **rekomendasi** tahapannya.\n",
        "1. Bandingkan hasil evaluasi sebelum dan setelah tuning (jika dilakukan).\n",
        "2. Identifikasi kelemahan model, seperti:\n",
        "  - Precision atau Recall rendah untuk kelas tertentu.\n",
        "  - Apakah model mengalami overfitting atau underfitting?\n",
        "3. Berikan rekomendasi tindakan lanjutan, seperti mengumpulkan data tambahan atau mencoba algoritma lain jika hasil belum memuaskan.\n",
        "\n",
        "---------------\n",
        "## **Berikut adalah analisis mendalam berdasarkan skenario yang diberikan:**\n",
        "\n",
        "---\n",
        "\n",
        "## **📊 Analisis Kinerja Model Clustering dan Klasifikasi**\n",
        "\n",
        "### 1. **Penjelasan Awal**\n",
        "Kita telah melakukan proses clustering untuk membagi data ke dalam dua kelompok, dan hasilnya menunjukkan distribusi cluster yang sangat tidak seimbang:\n",
        "- **Cluster 0**: 1.2% dari total data.\n",
        "- **Cluster 1**: 98.8% dari total data.\n",
        "\n",
        "Selanjutnya, dilakukan klasifikasi berdasarkan hasil clustering tersebut. Kinerja model klasifikasi menunjukkan nilai **Precision, Recall, dan F1 Score sebesar 1.000**. Meski terlihat sempurna, hasil ini mengindikasikan adanya potensi permasalahan.\n",
        "\n",
        "---\n",
        "\n",
        "### 2. **Justifikasi Kinerja Model**\n",
        "\n",
        "#### a. **Distribusi Data yang Tidak Seimbang**\n",
        "Distribusi cluster yang sangat timpang menyebabkan model klasifikasi memiliki bias terhadap mayoritas data (Cluster 1). Dalam kasus ini, model hanya perlu memprediksi **Cluster 1** untuk mencapai akurasi mendekati distribusi dasar (baseline accuracy) sebesar 98.8%. Hal ini membuat tugas klasifikasi menjadi \"trivial\".\n",
        "\n",
        "Namun, dengan analisis lebih mendalam, terlihat bahwa:\n",
        "- **Cluster 0** memang merupakan kelompok minoritas dengan karakteristik yang unik (riwayat pembatalan tinggi, penggunaan deposit, dll.).\n",
        "- **Cluster 1** adalah mayoritas dengan pola yang lebih stabil dan tidak memerlukan deposit.\n",
        "\n",
        "Artinya, meskipun model terlihat \"sempurna\", hasilnya tetap valid dalam konteks distribusi data yang ada.\n",
        "\n",
        "#### b. **F1 Score Tinggi: Apakah Overfitting?**\n",
        "Dalam kasus ini, nilai F1 Score yang tinggi tidak selalu berarti overfitting, karena:\n",
        "- **Cluster 0** memiliki pola yang jelas dan dapat diprediksi dengan mudah berdasarkan data.\n",
        "- **Cluster 1** mendominasi dan memiliki ciri khas yang berbeda, sehingga model tidak mengalami kesulitan membedakan kedua cluster.\n",
        "\n",
        "Namun, penting untuk diingat bahwa kinerja \"sempurna\" ini lebih disebabkan oleh **imbalance data**, bukan karena model benar-benar memahami seluruh aspek kompleksitas data.\n",
        "\n",
        "#### c. **Kelemahan Model**\n",
        "Model klasifikasi ini masih memiliki beberapa kelemahan, antara lain:\n",
        "1. **Ketergantungan pada Distribusi Data**: Jika distribusi data berubah, model ini mungkin tidak dapat mempertahankan kinerja tinggi.\n",
        "2. **Underrepresentation Cluster 0**: Karena cluster ini kecil, model kurang diuji untuk memprediksi data baru yang mungkin termasuk dalam Cluster 0.\n",
        "3. **Kurangnya Validasi Nyata**: Evaluasi kinerja hanya berdasarkan metrik numerik, tanpa pengujian langsung pada data baru.\n",
        "\n",
        "---\n",
        "\n",
        "### 3. **Rekomendasi Tindakan Lanjutan**\n",
        "\n",
        "#### a. **Identifikasi Kelemahan Model**\n",
        "1. **Precision atau Recall Rendah pada Cluster Minoritas**  \n",
        "   Dengan data yang sangat tidak seimbang, Precision dan Recall pada Cluster 0 seharusnya diuji secara lebih spesifik. Jika model sering salah memprediksi data minoritas, ini adalah tanda kelemahan model.\n",
        "\n",
        "2. **Overfitting atau Underfitting**\n",
        "   - **Tidak Overfitting**: Model tidak menunjukkan pola yang terlalu rumit, karena distribusi data memang sangat sederhana.\n",
        "   - **Tidak Underfitting**: Model mampu membedakan kedua cluster dengan baik berdasarkan distribusi.\n",
        "\n",
        "#### b. **Tindakan untuk Meningkatkan Model**\n",
        "1. **Penyeimbangan Data**  \n",
        "   Teknik seperti oversampling (SMOTE) untuk Cluster 0 atau undersampling untuk Cluster 1 dapat digunakan untuk menciptakan distribusi data yang lebih seimbang sebelum klasifikasi dilakukan.\n",
        "\n",
        "2. **Pengumpulan Data Tambahan**  \n",
        "   Jika memungkinkan, tambahkan lebih banyak data untuk Cluster 0 agar model memiliki lebih banyak contoh untuk mempelajari pola dari cluster minoritas.\n",
        "\n",
        "3. **Evaluasi dengan Metrik Tambahan**\n",
        "   Gunakan metrik seperti **ROC-AUC**, **PR-AUC**, atau analisis confusion matrix untuk mengevaluasi kinerja model secara lebih holistik, terutama untuk Cluster 0.\n",
        "\n",
        "4. **Eksperimen Algoritma Lain**\n",
        "   Cobalah algoritma klasifikasi yang lebih sensitif terhadap distribusi data, seperti **decision tree** atau **random forest**, yang dapat menangani data tidak seimbang dengan lebih baik.\n",
        "\n",
        "---\n",
        "\n",
        "### 4. **Kesimpulan**\n",
        "\n",
        "Meskipun model menghasilkan nilai metrik yang sempurna, hasil tersebut lebih mencerminkan distribusi data yang tidak seimbang daripada kinerja model yang luar biasa. Justifikasi berikut dapat diberikan:\n",
        "- Model bekerja dengan baik dalam membedakan cluster berdasarkan pola yang ada, meskipun data tidak seimbang.\n",
        "- Hasil ini valid untuk data saat ini tetapi mungkin tidak dapat diandalkan untuk generalisasi pada data baru.\n",
        "\n",
        "Untuk meningkatkan keandalan model, tindakan seperti menyeimbangkan data, menambah data untuk Cluster 0, dan mengeksplorasi algoritma lain dapat dilakukan. Selain itu, fokus pada analisis kelemahan model melalui metrik tambahan sangat dianjurkan agar hasil menjadi lebih representatif terhadap performa sebenarnya."
      ]
    }
  ],
  "metadata": {
    "colab": {
      "provenance": []
    },
    "kernelspec": {
      "display_name": "main-ds",
      "language": "python",
      "name": "python3"
    },
    "language_info": {
      "codemirror_mode": {
        "name": "ipython",
        "version": 3
      },
      "file_extension": ".py",
      "mimetype": "text/x-python",
      "name": "python",
      "nbconvert_exporter": "python",
      "pygments_lexer": "ipython3",
      "version": "3.9.19"
    }
  },
  "nbformat": 4,
  "nbformat_minor": 0
}
